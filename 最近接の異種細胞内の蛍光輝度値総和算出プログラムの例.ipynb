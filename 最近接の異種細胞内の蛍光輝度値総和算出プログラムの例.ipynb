{
 "cells": [
  {
   "cell_type": "code",
   "execution_count": 1,
   "metadata": {},
   "outputs": [
    {
     "data": {
      "text/plain": [
       "Text(0.5,1,'caspase')"
      ]
     },
     "execution_count": 1,
     "metadata": {},
     "output_type": "execute_result"
    },
    {
     "data": {
      "image/png": "[encoded data removed]",
      "text/plain": [
       "<Figure size 1296x864 with 3 Axes>"
      ]
     },
     "metadata": {},
     "output_type": "display_data"
    }
   ],
   "source": [
    "import cv2\n",
    "import matplotlib.pyplot as plt\n",
    "import numpy as np\n",
    "%matplotlib inline\n",
    "\n",
    "\n",
    "immune = cv2.imread(\"dummy_immune_cancer_red.bmp\",cv2.IMREAD_GRAYSCALE)\n",
    "cancer = cv2.imread(\"dummy_immune_cancer_green.bmp\",cv2.IMREAD_GRAYSCALE)\n",
    "caspase = cv2.imread(\"dummy_immune_cancer_blue.bmp\",cv2.IMREAD_GRAYSCALE)\n",
    "plt.figure(figsize=(18, 12)) \n",
    "plt.subplot(131)\n",
    "plt.imshow(immune)\n",
    "plt.title(\"immune cell\")\n",
    "plt.subplot(132)\n",
    "plt.imshow(cancer)\n",
    "plt.title(\"cancer cell\")\n",
    "plt.subplot(133)\n",
    "plt.imshow(caspase)\n",
    "plt.title(\"caspase\")"
   ]
  },
  {
   "cell_type": "code",
   "execution_count": 29,
   "metadata": {},
   "outputs": [
    {
     "data": {
      "text/plain": [
       "Text(0.5,1,'caspase')"
      ]
     },
     "execution_count": 29,
     "metadata": {},
     "output_type": "execute_result"
    },
    {
     "data": {
      "image/png": "[encoded data removed]",
      "text/plain": [
       "<Figure size 1296x864 with 3 Axes>"
      ]
     },
     "metadata": {},
     "output_type": "display_data"
    }
   ],
   "source": [
    "im_list = [immune, cancer, caspase]\n",
    "label_num=[]\n",
    "label_images=[]\n",
    "data_list=[]\n",
    "center_list=[]\n",
    "\n",
    "for tmp_img in im_list:\n",
    "    tmp_nLabels, tmp_labelimage, tmp_data, tmp_center = cv2.connectedComponentsWithStats(tmp_img)\n",
    "\n",
    "    label_num.append(tmp_nLabels)\n",
    "    label_images.append(tmp_labelimage)\n",
    "    data_list.append(tmp_data)\n",
    "    center_list.append(tmp_center)\n",
    "    \n",
    "    \n",
    "#ラベルの数。各オブジェクトに番号がラベリングされており、nlabels はそのラベルの数を表す。\n",
    "#ただし、画像の背景の番号は 0 とラベリングされているので、実際のオブジェクトの数は nlabels - 1 となる。\n",
    "plt.figure(figsize=(18, 12)) \n",
    "plt.subplot(131)\n",
    "plt.imshow(label_images[0])\n",
    "plt.title(\"immune cell\")\n",
    "plt.subplot(132)\n",
    "plt.imshow(label_images[1])\n",
    "plt.title(\"cancer cell\")\n",
    "plt.subplot(133)\n",
    "plt.imshow(label_images[2])\n",
    "plt.title(\"caspase\")"
   ]
  },
  {
   "cell_type": "code",
   "execution_count": 34,
   "metadata": {},
   "outputs": [
    {
     "name": "stdout",
     "output_type": "stream",
     "text": [
      "12\n"
     ]
    }
   ],
   "source": [
    "print(label_images[2].max())"
   ]
  },
  {
   "cell_type": "code",
   "execution_count": 31,
   "metadata": {},
   "outputs": [
    {
     "name": "stdout",
     "output_type": "stream",
     "text": [
      "[[243.67011415 233.35677622]\n",
      " [414.5         65.5       ]\n",
      " [254.5         68.5       ]\n",
      " [115.54411765  73.54411765]\n",
      " [426.         153.        ]\n",
      " [253.02409639 158.02409639]\n",
      " [106.         164.        ]\n",
      " [120.02702703 255.02702703]\n",
      " [259.54411765 256.54411765]\n",
      " [416.03016591 264.03016591]\n",
      " [263.53018868 336.53018868]\n",
      " [411.5579096  339.5579096 ]\n",
      " [118.         338.        ]]\n",
      "[[243.67011415 233.35677622]\n",
      " [414.5         65.5       ]\n",
      " [254.5         68.5       ]\n",
      " [115.54411765  73.54411765]\n",
      " [426.         153.        ]\n",
      " [253.02409639 158.02409639]\n",
      " [106.         164.        ]\n",
      " [120.02702703 255.02702703]\n",
      " [259.54411765 256.54411765]\n",
      " [416.03016591 264.03016591]\n",
      " [263.53018868 336.53018868]\n",
      " [411.5579096  339.5579096 ]\n",
      " [118.         338.        ]]\n"
     ]
    }
   ],
   "source": [
    "print(center_list[1])\n",
    "print(center_list[2])"
   ]
  },
  {
   "cell_type": "code",
   "execution_count": 3,
   "metadata": {},
   "outputs": [
    {
     "name": "stdout",
     "output_type": "stream",
     "text": [
      "[244.88793899 233.58079383]\n"
     ]
    }
   ],
   "source": [
    "print(center_list[0][0])"
   ]
  },
  {
   "cell_type": "code",
   "execution_count": 38,
   "metadata": {},
   "outputs": [
    {
     "name": "stdout",
     "output_type": "stream",
     "text": [
      "current immune cell id:1, nearest cancer cell id:2\n",
      "最近接免疫細胞座標:[207.06654991  66.06654991], がん細胞座標:[254.5  68.5], 距離:47.49582999104507\n",
      "がん細胞内の輝度値総和:37600\n",
      "\n",
      "current immune cell id:2, nearest cancer cell id:3\n",
      "最近接免疫細胞座標:[68. 72.], がん細胞座標:[115.54411765  73.54411765], 距離:47.56918563676836\n",
      "がん細胞内の輝度値総和:30600\n",
      "\n",
      "current immune cell id:3, nearest cancer cell id:1\n",
      "最近接免疫細胞座標:[374.5  66.5], がん細胞座標:[414.5  65.5], 距離:40.01249804748511\n",
      "がん細胞内の輝度値総和:37600\n",
      "\n",
      "current immune cell id:4, nearest cancer cell id:5\n",
      "最近接免疫細胞座標:[208.03016591 159.03016591], がん細胞座標:[253.02409639 158.02409639], 距離:45.005176983369\n",
      "がん細胞内の輝度値総和:41500\n",
      "\n",
      "current immune cell id:5, nearest cancer cell id:4\n",
      "最近接免疫細胞座標:[370.00684932 157.03013699], がん細胞座標:[426. 153.], 距離:56.137998964638896\n",
      "がん細胞内の輝度値総和:68200\n",
      "\n",
      "current immune cell id:6, nearest cancer cell id:6\n",
      "最近接免疫細胞座標:[ 66. 166.], がん細胞座標:[106. 164.], 距離:40.049968789001575\n",
      "がん細胞内の輝度値総和:97800\n",
      "\n",
      "current immune cell id:7, nearest cancer cell id:7\n",
      "最近接免疫細胞座標:[ 70.03016591 254.03016591], がん細胞座標:[120.02702703 255.02702703], 距離:50.006798071712595\n",
      "がん細胞内の輝度値総和:217005\n",
      "\n",
      "current immune cell id:8, nearest cancer cell id:8\n",
      "最近接免疫細胞座標:[215.0842872 257.0842872], がん細胞座標:[259.54411765 256.54411765], 距離:44.4631117495618\n",
      "がん細胞内の輝度値総和:30600\n",
      "\n",
      "current immune cell id:9, nearest cancer cell id:9\n",
      "最近接免疫細胞座標:[364.52455796 261.52455796], がん細胞座標:[416.03016591 264.03016591], 距離:51.56651745191203\n",
      "がん細胞内の輝度値総和:119340\n",
      "\n",
      "current immune cell id:10, nearest cancer cell id:10\n",
      "最近接免疫細胞座標:[206.03016591 334.03016591], がん細胞座標:[263.53018868 336.53018868], 距離:57.55434590027242\n",
      "がん細胞内の輝度値総和:95400\n",
      "\n",
      "current immune cell id:11, nearest cancer cell id:12\n",
      "最近接免疫細胞座標:[ 72.5579096 338.5579096], がん細胞座標:[118. 338.], 距離:45.44551509926817\n",
      "がん細胞内の輝度値総和:124695\n",
      "\n",
      "current immune cell id:12, nearest cancer cell id:11\n",
      "最近接免疫細胞座標:[370. 340.], がん細胞座標:[411.5579096 339.5579096], 距離:41.560261002732055\n",
      "がん細胞内の輝度値総和:70800\n",
      "\n"
     ]
    }
   ],
   "source": [
    "import sys\n",
    "#immune cellの重心座標リスト\n",
    "#print(center_list[0])\n",
    "\n",
    "#cancer cellの重心座標リスト\n",
    "#print(center_list[1])\n",
    "\n",
    "#immune cellの数\n",
    "cell_num = len(center_list[0])\n",
    "\n",
    "#これらから、最近接の細胞同士のIDを紐付ける\n",
    "\n",
    "offset = 1 \n",
    "\n",
    "for cur_id,at in enumerate(center_list[0][offset:],offset):\n",
    "    #暫定最近接距離格納用リスト\n",
    "    tmp_min=[]\n",
    "    #print(cur_id,at)\n",
    "    for i in range(1,cell_num):\n",
    "        #print(i)\n",
    "        #print(at[0])\n",
    "        #print(center_list[1][i,0])\n",
    "        x_range = at[0] - center_list[1][i,0]\n",
    "        y_range = at[1] - center_list[1][i,1]\n",
    "        #print(x_range,y_range)\n",
    "        tmp_len = np.sqrt(x_range * x_range + y_range * y_range)\n",
    "        #print(tmp_1en)\n",
    "        tmp_min.append(tmp_len)\n",
    "        \n",
    "        #if tmp_len > 10:\n",
    "        #   tmp_min.append(tmp_len)\n",
    "        \n",
    "        \n",
    "    #1点に対する距離計算終了・格納後、\n",
    "    #注目しているimmune cellと１番距離の小さいcancer cellのidを紐付ける\n",
    "    else:\n",
    "        tmp_min = np.array(tmp_min)\n",
    "        tmp_min_idx = np.argmin(tmp_min)\n",
    "        #print(len(tmp_min),tmp_min_idx,tmp_min)\n",
    "        print(\"current immune cell id:{}, nearest cancer cell id:{}\".format(cur_id,tmp_min_idx+1))\n",
    "        print(\"最近接免疫細胞座標:{}, がん細胞座標:{}, 距離:{}\".format(center_list[0][cur_id],center_list[1][tmp_min_idx+1],tmp_min.min()))\n",
    "        \n",
    "        cur_cancer_cell_mask = np.where(label_images[1]==tmp_min_idx+1,caspase,0)\n",
    "        \n",
    "        print(\"がん細胞内の輝度値総和:{}\".format(np.sum(cur_cancer_cell_mask)))\n",
    "        #print(center_list[0][cur_id],center_list[1][tmp_min_idx+1],tmp_min.min())\n",
    "        print()\n",
    "        \n"
   ]
  },
  {
   "cell_type": "code",
   "execution_count": null,
   "metadata": {},
   "outputs": [],
   "source": []
  },
  {
   "cell_type": "code",
   "execution_count": null,
   "metadata": {},
   "outputs": [],
   "source": []
  }
 ],
 "metadata": {
  "kernelspec": {
   "display_name": "Python 3",
   "language": "python",
   "name": "python3"
  },
  "language_info": {
   "codemirror_mode": {
    "name": "ipython",
    "version": 3
   },
   "file_extension": ".py",
   "mimetype": "text/x-python",
   "name": "python",
   "nbconvert_exporter": "python",
   "pygments_lexer": "ipython3",
   "version": "3.6.5"
  }
 },
 "nbformat": 4,
 "nbformat_minor": 4
}
